{
 "cells": [
  {
   "cell_type": "markdown",
   "id": "430d8be5-4d3b-4023-9907-f9d3c1b28e5e",
   "metadata": {},
   "source": [
    "# Imports:"
   ]
  },
  {
   "cell_type": "code",
   "execution_count": 1,
   "id": "f638bcb5-36b3-4668-a6d9-8a0dc5c85850",
   "metadata": {},
   "outputs": [],
   "source": [
    "import numpy as np\n",
    "import pandas as pd\n",
    "import matplotlib.pyplot as plt\n",
    "from tqdm import tqdm\n",
    "import os\n",
    "import cv2\n",
    "from PIL import Image\n",
    "from tqdm import tqdm\n",
    "import gc"
   ]
  },
  {
   "cell_type": "markdown",
   "id": "fddb2eab-7646-4d37-a481-79875b4dab02",
   "metadata": {},
   "source": [
    "# Functions:"
   ]
  },
  {
   "cell_type": "markdown",
   "id": "314c47c5-9183-42bb-afb1-b7ed0f4ea782",
   "metadata": {},
   "source": [
    "# Loading data:"
   ]
  },
  {
   "cell_type": "code",
   "execution_count": 2,
   "id": "45f11889-e47e-4365-ac20-0bda262d1e5e",
   "metadata": {
    "scrolled": true
   },
   "outputs": [
    {
     "name": "stdout",
     "output_type": "stream",
     "text": [
      "(32, 4)\n"
     ]
    },
    {
     "data": {
      "text/html": [
       "<div>\n",
       "<style scoped>\n",
       "    .dataframe tbody tr th:only-of-type {\n",
       "        vertical-align: middle;\n",
       "    }\n",
       "\n",
       "    .dataframe tbody tr th {\n",
       "        vertical-align: top;\n",
       "    }\n",
       "\n",
       "    .dataframe thead th {\n",
       "        text-align: right;\n",
       "    }\n",
       "</style>\n",
       "<table border=\"1\" class=\"dataframe\">\n",
       "  <thead>\n",
       "    <tr style=\"text-align: right;\">\n",
       "      <th></th>\n",
       "      <th>name</th>\n",
       "      <th>r</th>\n",
       "      <th>g</th>\n",
       "      <th>b</th>\n",
       "    </tr>\n",
       "  </thead>\n",
       "  <tbody>\n",
       "    <tr>\n",
       "      <th>0</th>\n",
       "      <td>Animal</td>\n",
       "      <td>64</td>\n",
       "      <td>128</td>\n",
       "      <td>64</td>\n",
       "    </tr>\n",
       "    <tr>\n",
       "      <th>1</th>\n",
       "      <td>Archway</td>\n",
       "      <td>192</td>\n",
       "      <td>0</td>\n",
       "      <td>128</td>\n",
       "    </tr>\n",
       "    <tr>\n",
       "      <th>2</th>\n",
       "      <td>Bicyclist</td>\n",
       "      <td>0</td>\n",
       "      <td>128</td>\n",
       "      <td>192</td>\n",
       "    </tr>\n",
       "    <tr>\n",
       "      <th>3</th>\n",
       "      <td>Bridge</td>\n",
       "      <td>0</td>\n",
       "      <td>128</td>\n",
       "      <td>64</td>\n",
       "    </tr>\n",
       "    <tr>\n",
       "      <th>4</th>\n",
       "      <td>Building</td>\n",
       "      <td>128</td>\n",
       "      <td>0</td>\n",
       "      <td>0</td>\n",
       "    </tr>\n",
       "    <tr>\n",
       "      <th>5</th>\n",
       "      <td>Car</td>\n",
       "      <td>64</td>\n",
       "      <td>0</td>\n",
       "      <td>128</td>\n",
       "    </tr>\n",
       "    <tr>\n",
       "      <th>6</th>\n",
       "      <td>CartLuggagePram</td>\n",
       "      <td>64</td>\n",
       "      <td>0</td>\n",
       "      <td>192</td>\n",
       "    </tr>\n",
       "    <tr>\n",
       "      <th>7</th>\n",
       "      <td>Child</td>\n",
       "      <td>192</td>\n",
       "      <td>128</td>\n",
       "      <td>64</td>\n",
       "    </tr>\n",
       "    <tr>\n",
       "      <th>8</th>\n",
       "      <td>Column_Pole</td>\n",
       "      <td>192</td>\n",
       "      <td>192</td>\n",
       "      <td>128</td>\n",
       "    </tr>\n",
       "    <tr>\n",
       "      <th>9</th>\n",
       "      <td>Fence</td>\n",
       "      <td>64</td>\n",
       "      <td>64</td>\n",
       "      <td>128</td>\n",
       "    </tr>\n",
       "    <tr>\n",
       "      <th>10</th>\n",
       "      <td>LaneMkgsDriv</td>\n",
       "      <td>128</td>\n",
       "      <td>0</td>\n",
       "      <td>192</td>\n",
       "    </tr>\n",
       "    <tr>\n",
       "      <th>11</th>\n",
       "      <td>LaneMkgsNonDriv</td>\n",
       "      <td>192</td>\n",
       "      <td>0</td>\n",
       "      <td>64</td>\n",
       "    </tr>\n",
       "    <tr>\n",
       "      <th>12</th>\n",
       "      <td>Misc_Text</td>\n",
       "      <td>128</td>\n",
       "      <td>128</td>\n",
       "      <td>64</td>\n",
       "    </tr>\n",
       "    <tr>\n",
       "      <th>13</th>\n",
       "      <td>MotorcycleScooter</td>\n",
       "      <td>192</td>\n",
       "      <td>0</td>\n",
       "      <td>192</td>\n",
       "    </tr>\n",
       "    <tr>\n",
       "      <th>14</th>\n",
       "      <td>OtherMoving</td>\n",
       "      <td>128</td>\n",
       "      <td>64</td>\n",
       "      <td>64</td>\n",
       "    </tr>\n",
       "    <tr>\n",
       "      <th>15</th>\n",
       "      <td>ParkingBlock</td>\n",
       "      <td>64</td>\n",
       "      <td>192</td>\n",
       "      <td>128</td>\n",
       "    </tr>\n",
       "    <tr>\n",
       "      <th>16</th>\n",
       "      <td>Pedestrian</td>\n",
       "      <td>64</td>\n",
       "      <td>64</td>\n",
       "      <td>0</td>\n",
       "    </tr>\n",
       "    <tr>\n",
       "      <th>17</th>\n",
       "      <td>Road</td>\n",
       "      <td>128</td>\n",
       "      <td>64</td>\n",
       "      <td>128</td>\n",
       "    </tr>\n",
       "    <tr>\n",
       "      <th>18</th>\n",
       "      <td>RoadShoulder</td>\n",
       "      <td>128</td>\n",
       "      <td>128</td>\n",
       "      <td>192</td>\n",
       "    </tr>\n",
       "    <tr>\n",
       "      <th>19</th>\n",
       "      <td>Sidewalk</td>\n",
       "      <td>0</td>\n",
       "      <td>0</td>\n",
       "      <td>192</td>\n",
       "    </tr>\n",
       "    <tr>\n",
       "      <th>20</th>\n",
       "      <td>SignSymbol</td>\n",
       "      <td>192</td>\n",
       "      <td>128</td>\n",
       "      <td>128</td>\n",
       "    </tr>\n",
       "    <tr>\n",
       "      <th>21</th>\n",
       "      <td>Sky</td>\n",
       "      <td>128</td>\n",
       "      <td>128</td>\n",
       "      <td>128</td>\n",
       "    </tr>\n",
       "    <tr>\n",
       "      <th>22</th>\n",
       "      <td>SUVPickupTruck</td>\n",
       "      <td>64</td>\n",
       "      <td>128</td>\n",
       "      <td>192</td>\n",
       "    </tr>\n",
       "    <tr>\n",
       "      <th>23</th>\n",
       "      <td>TrafficCone</td>\n",
       "      <td>0</td>\n",
       "      <td>0</td>\n",
       "      <td>64</td>\n",
       "    </tr>\n",
       "    <tr>\n",
       "      <th>24</th>\n",
       "      <td>TrafficLight</td>\n",
       "      <td>0</td>\n",
       "      <td>64</td>\n",
       "      <td>64</td>\n",
       "    </tr>\n",
       "    <tr>\n",
       "      <th>25</th>\n",
       "      <td>Train</td>\n",
       "      <td>192</td>\n",
       "      <td>64</td>\n",
       "      <td>128</td>\n",
       "    </tr>\n",
       "    <tr>\n",
       "      <th>26</th>\n",
       "      <td>Tree</td>\n",
       "      <td>128</td>\n",
       "      <td>128</td>\n",
       "      <td>0</td>\n",
       "    </tr>\n",
       "    <tr>\n",
       "      <th>27</th>\n",
       "      <td>Truck_Bus</td>\n",
       "      <td>192</td>\n",
       "      <td>128</td>\n",
       "      <td>192</td>\n",
       "    </tr>\n",
       "    <tr>\n",
       "      <th>28</th>\n",
       "      <td>Tunnel</td>\n",
       "      <td>64</td>\n",
       "      <td>0</td>\n",
       "      <td>64</td>\n",
       "    </tr>\n",
       "    <tr>\n",
       "      <th>29</th>\n",
       "      <td>VegetationMisc</td>\n",
       "      <td>192</td>\n",
       "      <td>192</td>\n",
       "      <td>0</td>\n",
       "    </tr>\n",
       "    <tr>\n",
       "      <th>30</th>\n",
       "      <td>Void</td>\n",
       "      <td>0</td>\n",
       "      <td>0</td>\n",
       "      <td>0</td>\n",
       "    </tr>\n",
       "    <tr>\n",
       "      <th>31</th>\n",
       "      <td>Wall</td>\n",
       "      <td>64</td>\n",
       "      <td>192</td>\n",
       "      <td>0</td>\n",
       "    </tr>\n",
       "  </tbody>\n",
       "</table>\n",
       "</div>"
      ],
      "text/plain": [
       "                 name    r    g    b\n",
       "0              Animal   64  128   64\n",
       "1             Archway  192    0  128\n",
       "2           Bicyclist    0  128  192\n",
       "3              Bridge    0  128   64\n",
       "4            Building  128    0    0\n",
       "5                 Car   64    0  128\n",
       "6     CartLuggagePram   64    0  192\n",
       "7               Child  192  128   64\n",
       "8         Column_Pole  192  192  128\n",
       "9               Fence   64   64  128\n",
       "10       LaneMkgsDriv  128    0  192\n",
       "11    LaneMkgsNonDriv  192    0   64\n",
       "12          Misc_Text  128  128   64\n",
       "13  MotorcycleScooter  192    0  192\n",
       "14        OtherMoving  128   64   64\n",
       "15       ParkingBlock   64  192  128\n",
       "16         Pedestrian   64   64    0\n",
       "17               Road  128   64  128\n",
       "18       RoadShoulder  128  128  192\n",
       "19           Sidewalk    0    0  192\n",
       "20         SignSymbol  192  128  128\n",
       "21                Sky  128  128  128\n",
       "22     SUVPickupTruck   64  128  192\n",
       "23        TrafficCone    0    0   64\n",
       "24       TrafficLight    0   64   64\n",
       "25              Train  192   64  128\n",
       "26               Tree  128  128    0\n",
       "27          Truck_Bus  192  128  192\n",
       "28             Tunnel   64    0   64\n",
       "29     VegetationMisc  192  192    0\n",
       "30               Void    0    0    0\n",
       "31               Wall   64  192    0"
      ]
     },
     "execution_count": 2,
     "metadata": {},
     "output_type": "execute_result"
    }
   ],
   "source": [
    "labels_df = pd.read_csv(\"CamVid/class_dict.csv\")\n",
    "print(labels_df.shape)\n",
    "labels_df"
   ]
  },
  {
   "cell_type": "code",
   "execution_count": 3,
   "id": "ce9a0f9d-4900-4151-9087-5357fcb2bf7b",
   "metadata": {},
   "outputs": [
    {
     "data": {
      "text/plain": [
       "name    Animal\n",
       "r           64\n",
       "g          128\n",
       "b           64\n",
       "Name: 0, dtype: object"
      ]
     },
     "execution_count": 3,
     "metadata": {},
     "output_type": "execute_result"
    }
   ],
   "source": [
    "labels_df.iloc[0]"
   ]
  },
  {
   "cell_type": "code",
   "execution_count": 4,
   "id": "f38b2633-e74f-41ac-8ae0-0beb911f189b",
   "metadata": {
    "scrolled": true
   },
   "outputs": [
    {
     "name": "stdout",
     "output_type": "stream",
     "text": [
      "['Animal'] [ 64 128  64] <class 'numpy.ndarray'> \n",
      "\n",
      "['Archway'] [192   0 128] <class 'numpy.ndarray'> \n",
      "\n",
      "['Bicyclist'] [  0 128 192] <class 'numpy.ndarray'> \n",
      "\n",
      "['Bridge'] [  0 128  64] <class 'numpy.ndarray'> \n",
      "\n",
      "['Building'] [128   0   0] <class 'numpy.ndarray'> \n",
      "\n"
     ]
    }
   ],
   "source": [
    "label_colors = []\n",
    "class_labels = []\n",
    "for i in range(32):\n",
    "    row = labels_df.iloc[i]\n",
    "    label_colors.append(np.array([row['r'], row['g'], row['b']]))\n",
    "    class_labels.append(np.array([row['name']]))\n",
    "for i in range(5):\n",
    "    print(class_labels[i], label_colors[i], type(class_labels[i]),\"\\n\")"
   ]
  },
  {
   "cell_type": "code",
   "execution_count": 5,
   "id": "fcdec2c8-f167-49de-8520-385bd2c50ba3",
   "metadata": {},
   "outputs": [
    {
     "name": "stdout",
     "output_type": "stream",
     "text": [
      "(64, 128, 64) \t 0\n",
      "(192, 0, 128) \t 1\n",
      "(0, 128, 192) \t 2\n",
      "(0, 128, 64) \t 3\n",
      "(128, 0, 0) \t 4\n",
      "(64, 0, 128) \t 5\n",
      "(64, 0, 192) \t 6\n",
      "(192, 128, 64) \t 7\n",
      "(192, 192, 128) \t 8\n",
      "(64, 64, 128) \t 9\n",
      "(128, 0, 192) \t 10\n",
      "(192, 0, 64) \t 11\n",
      "(128, 128, 64) \t 12\n",
      "(192, 0, 192) \t 13\n",
      "(128, 64, 64) \t 14\n",
      "(64, 192, 128) \t 15\n",
      "(64, 64, 0) \t 16\n",
      "(128, 64, 128) \t 17\n",
      "(128, 128, 192) \t 18\n",
      "(0, 0, 192) \t 19\n",
      "(192, 128, 128) \t 20\n",
      "(128, 128, 128) \t 21\n",
      "(64, 128, 192) \t 22\n",
      "(0, 0, 64) \t 23\n",
      "(0, 64, 64) \t 24\n",
      "(192, 64, 128) \t 25\n",
      "(128, 128, 0) \t 26\n",
      "(192, 128, 192) \t 27\n",
      "(64, 0, 64) \t 28\n",
      "(192, 192, 0) \t 29\n",
      "(0, 0, 0) \t 30\n",
      "(64, 192, 0) \t 31\n"
     ]
    }
   ],
   "source": [
    "color_dict = {}\n",
    "for i in range(32):\n",
    "    row = labels_df.iloc[i]\n",
    "    color = np.array([row['r'], row['g'], row['b']])\n",
    "    color_dict[tuple(color)] = i\n",
    "for val in color_dict:\n",
    "    print(val, \"\\t\", color_dict[val]) #, type(color_dict[val]))"
   ]
  },
  {
   "cell_type": "code",
   "execution_count": 12,
   "id": "37e5a082-b849-4282-8e2d-ef3a49db12b5",
   "metadata": {},
   "outputs": [],
   "source": [
    "label_dict = {}\n",
    "for key in color_dict.keys():\n",
    "    keyl = list(key)\n",
    "    label_dict[color_dict[key]] = keyl\n",
    "    # break"
   ]
  },
  {
   "cell_type": "code",
   "execution_count": 22,
   "id": "d65b97f5-98e6-4089-9f72-98decc701e18",
   "metadata": {
    "scrolled": true
   },
   "outputs": [
    {
     "data": {
      "text/html": [
       "<div>\n",
       "<style scoped>\n",
       "    .dataframe tbody tr th:only-of-type {\n",
       "        vertical-align: middle;\n",
       "    }\n",
       "\n",
       "    .dataframe tbody tr th {\n",
       "        vertical-align: top;\n",
       "    }\n",
       "\n",
       "    .dataframe thead th {\n",
       "        text-align: right;\n",
       "    }\n",
       "</style>\n",
       "<table border=\"1\" class=\"dataframe\">\n",
       "  <thead>\n",
       "    <tr style=\"text-align: right;\">\n",
       "      <th></th>\n",
       "      <th>r</th>\n",
       "      <th>g</th>\n",
       "      <th>b</th>\n",
       "    </tr>\n",
       "  </thead>\n",
       "  <tbody>\n",
       "    <tr>\n",
       "      <th>0</th>\n",
       "      <td>64</td>\n",
       "      <td>128</td>\n",
       "      <td>64</td>\n",
       "    </tr>\n",
       "    <tr>\n",
       "      <th>1</th>\n",
       "      <td>192</td>\n",
       "      <td>0</td>\n",
       "      <td>128</td>\n",
       "    </tr>\n",
       "    <tr>\n",
       "      <th>2</th>\n",
       "      <td>0</td>\n",
       "      <td>128</td>\n",
       "      <td>192</td>\n",
       "    </tr>\n",
       "    <tr>\n",
       "      <th>3</th>\n",
       "      <td>0</td>\n",
       "      <td>128</td>\n",
       "      <td>64</td>\n",
       "    </tr>\n",
       "    <tr>\n",
       "      <th>4</th>\n",
       "      <td>128</td>\n",
       "      <td>0</td>\n",
       "      <td>0</td>\n",
       "    </tr>\n",
       "    <tr>\n",
       "      <th>5</th>\n",
       "      <td>64</td>\n",
       "      <td>0</td>\n",
       "      <td>128</td>\n",
       "    </tr>\n",
       "    <tr>\n",
       "      <th>6</th>\n",
       "      <td>64</td>\n",
       "      <td>0</td>\n",
       "      <td>192</td>\n",
       "    </tr>\n",
       "    <tr>\n",
       "      <th>7</th>\n",
       "      <td>192</td>\n",
       "      <td>128</td>\n",
       "      <td>64</td>\n",
       "    </tr>\n",
       "    <tr>\n",
       "      <th>8</th>\n",
       "      <td>192</td>\n",
       "      <td>192</td>\n",
       "      <td>128</td>\n",
       "    </tr>\n",
       "    <tr>\n",
       "      <th>9</th>\n",
       "      <td>64</td>\n",
       "      <td>64</td>\n",
       "      <td>128</td>\n",
       "    </tr>\n",
       "    <tr>\n",
       "      <th>10</th>\n",
       "      <td>128</td>\n",
       "      <td>0</td>\n",
       "      <td>192</td>\n",
       "    </tr>\n",
       "    <tr>\n",
       "      <th>11</th>\n",
       "      <td>192</td>\n",
       "      <td>0</td>\n",
       "      <td>64</td>\n",
       "    </tr>\n",
       "    <tr>\n",
       "      <th>12</th>\n",
       "      <td>128</td>\n",
       "      <td>128</td>\n",
       "      <td>64</td>\n",
       "    </tr>\n",
       "    <tr>\n",
       "      <th>13</th>\n",
       "      <td>192</td>\n",
       "      <td>0</td>\n",
       "      <td>192</td>\n",
       "    </tr>\n",
       "    <tr>\n",
       "      <th>14</th>\n",
       "      <td>128</td>\n",
       "      <td>64</td>\n",
       "      <td>64</td>\n",
       "    </tr>\n",
       "    <tr>\n",
       "      <th>15</th>\n",
       "      <td>64</td>\n",
       "      <td>192</td>\n",
       "      <td>128</td>\n",
       "    </tr>\n",
       "    <tr>\n",
       "      <th>16</th>\n",
       "      <td>64</td>\n",
       "      <td>64</td>\n",
       "      <td>0</td>\n",
       "    </tr>\n",
       "    <tr>\n",
       "      <th>17</th>\n",
       "      <td>128</td>\n",
       "      <td>64</td>\n",
       "      <td>128</td>\n",
       "    </tr>\n",
       "    <tr>\n",
       "      <th>18</th>\n",
       "      <td>128</td>\n",
       "      <td>128</td>\n",
       "      <td>192</td>\n",
       "    </tr>\n",
       "    <tr>\n",
       "      <th>19</th>\n",
       "      <td>0</td>\n",
       "      <td>0</td>\n",
       "      <td>192</td>\n",
       "    </tr>\n",
       "    <tr>\n",
       "      <th>20</th>\n",
       "      <td>192</td>\n",
       "      <td>128</td>\n",
       "      <td>128</td>\n",
       "    </tr>\n",
       "    <tr>\n",
       "      <th>21</th>\n",
       "      <td>128</td>\n",
       "      <td>128</td>\n",
       "      <td>128</td>\n",
       "    </tr>\n",
       "    <tr>\n",
       "      <th>22</th>\n",
       "      <td>64</td>\n",
       "      <td>128</td>\n",
       "      <td>192</td>\n",
       "    </tr>\n",
       "    <tr>\n",
       "      <th>23</th>\n",
       "      <td>0</td>\n",
       "      <td>0</td>\n",
       "      <td>64</td>\n",
       "    </tr>\n",
       "    <tr>\n",
       "      <th>24</th>\n",
       "      <td>0</td>\n",
       "      <td>64</td>\n",
       "      <td>64</td>\n",
       "    </tr>\n",
       "    <tr>\n",
       "      <th>25</th>\n",
       "      <td>192</td>\n",
       "      <td>64</td>\n",
       "      <td>128</td>\n",
       "    </tr>\n",
       "    <tr>\n",
       "      <th>26</th>\n",
       "      <td>128</td>\n",
       "      <td>128</td>\n",
       "      <td>0</td>\n",
       "    </tr>\n",
       "    <tr>\n",
       "      <th>27</th>\n",
       "      <td>192</td>\n",
       "      <td>128</td>\n",
       "      <td>192</td>\n",
       "    </tr>\n",
       "    <tr>\n",
       "      <th>28</th>\n",
       "      <td>64</td>\n",
       "      <td>0</td>\n",
       "      <td>64</td>\n",
       "    </tr>\n",
       "    <tr>\n",
       "      <th>29</th>\n",
       "      <td>192</td>\n",
       "      <td>192</td>\n",
       "      <td>0</td>\n",
       "    </tr>\n",
       "    <tr>\n",
       "      <th>30</th>\n",
       "      <td>0</td>\n",
       "      <td>0</td>\n",
       "      <td>0</td>\n",
       "    </tr>\n",
       "    <tr>\n",
       "      <th>31</th>\n",
       "      <td>64</td>\n",
       "      <td>192</td>\n",
       "      <td>0</td>\n",
       "    </tr>\n",
       "  </tbody>\n",
       "</table>\n",
       "</div>"
      ],
      "text/plain": [
       "      r    g    b\n",
       "0    64  128   64\n",
       "1   192    0  128\n",
       "2     0  128  192\n",
       "3     0  128   64\n",
       "4   128    0    0\n",
       "5    64    0  128\n",
       "6    64    0  192\n",
       "7   192  128   64\n",
       "8   192  192  128\n",
       "9    64   64  128\n",
       "10  128    0  192\n",
       "11  192    0   64\n",
       "12  128  128   64\n",
       "13  192    0  192\n",
       "14  128   64   64\n",
       "15   64  192  128\n",
       "16   64   64    0\n",
       "17  128   64  128\n",
       "18  128  128  192\n",
       "19    0    0  192\n",
       "20  192  128  128\n",
       "21  128  128  128\n",
       "22   64  128  192\n",
       "23    0    0   64\n",
       "24    0   64   64\n",
       "25  192   64  128\n",
       "26  128  128    0\n",
       "27  192  128  192\n",
       "28   64    0   64\n",
       "29  192  192    0\n",
       "30    0    0    0\n",
       "31   64  192    0"
      ]
     },
     "execution_count": 22,
     "metadata": {},
     "output_type": "execute_result"
    }
   ],
   "source": [
    "df = pd.DataFrame.from_dict(label_dict, orient = 'index')\n",
    "df.columns = ['r', 'g', 'b']\n",
    "df"
   ]
  },
  {
   "cell_type": "code",
   "execution_count": 23,
   "id": "982b4aee-d033-434d-8aa9-c7771a944382",
   "metadata": {},
   "outputs": [],
   "source": [
    "df.to_csv('labels.csv', index_label = 'LabelNo')"
   ]
  },
  {
   "cell_type": "markdown",
   "id": "91d23948-2de4-44c6-9777-53c7381359d5",
   "metadata": {},
   "source": [
    "# Processing the label images:"
   ]
  },
  {
   "cell_type": "markdown",
   "id": "399a1853-356f-4e28-aaa1-21eb038f92d5",
   "metadata": {},
   "source": [
    "Replacing three channel RGB color with single channel class label"
   ]
  },
  {
   "cell_type": "markdown",
   "id": "2c20dfc8-2b14-4bb4-936d-80e7459fa011",
   "metadata": {},
   "source": [
    "## Train labels:"
   ]
  },
  {
   "cell_type": "code",
   "execution_count": 13,
   "id": "9f8ed5fa-1913-4c48-bba9-d6f04aaa2d06",
   "metadata": {},
   "outputs": [],
   "source": [
    "for filename in os.listdir(\"CamVid/train_labels\"):\n",
    "    if filename == \".ipynb_checkpoints\":\n",
    "        continue\n",
    "\n",
    "    # Name of processed label image\n",
    "    processed_file_name = filename[:-4] + \"P\" + filename[-4:]\n",
    "    img = np.array(Image.open(\"CamVid/train_labels/\" + filename))\n",
    "    img_shape = img.shape\n",
    "    processed_image = np.zeros((img_shape[0], img_shape[1]))\n",
    "\n",
    "    # Setting class label value in processed image\n",
    "    for i in range(img_shape[0]):\n",
    "        for j in range(img_shape[1]):\n",
    "            processed_image[i][j] = color_dict[tuple(img[i][j])]\n",
    "    \n",
    "    processed_image = processed_image.astype(np.uint8)\n",
    "    save_image = Image.fromarray(processed_image, mode = 'L') # Saving as grayscale image \n",
    "    save_image.save(\"CamVid/train_labels_processed/\" + processed_file_name)"
   ]
  },
  {
   "cell_type": "code",
   "execution_count": 16,
   "id": "7d93accc-9fa0-4d5c-9435-3a33768263e1",
   "metadata": {},
   "outputs": [
    {
     "name": "stdout",
     "output_type": "stream",
     "text": [
      "370\n",
      "370\n"
     ]
    }
   ],
   "source": [
    "print(len(os.listdir(\"CamVid/train_labels\")))\n",
    "print(len(os.listdir(\"CamVid/train_labels_processed\")))"
   ]
  },
  {
   "cell_type": "code",
   "execution_count": 26,
   "id": "12234e0a-6c5e-4dfe-aa7f-ea5ee14ffa02",
   "metadata": {
    "scrolled": true
   },
   "outputs": [
    {
     "name": "stdout",
     "output_type": "stream",
     "text": [
      "(720, 960)\n"
     ]
    },
    {
     "data": {
      "image/png": "[encoded data removed]",
      "text/plain": [
       "<Figure size 640x480 with 2 Axes>"
      ]
     },
     "metadata": {},
     "output_type": "display_data"
    }
   ],
   "source": [
    "for filename in os.listdir(\"CamVid/train_labels\"):\n",
    "    if filename == \".ipynb_checkpoints\":\n",
    "        continue\n",
    "    processed_file_name = filename[:-4] + \"P\" + filename[-4:]\n",
    "    ori_image = np.array(Image.open(\"CamVid/train_labels/\" + filename).convert('L'))\n",
    "    processed_image = np.array(Image.open(\"CamVid/train_labels_processed/\" + processed_file_name).convert('L'))\n",
    "    print(processed_image.shape)\n",
    "    fig, (ax1, ax2) = plt.subplots(1,2)\n",
    "    ax1.imshow(ori_image)\n",
    "    # ax1.title(\"original image\")\n",
    "    ax2.imshow(processed_image)\n",
    "    # ax2.title(\"processed image\")\n",
    "    break"
   ]
  },
  {
   "cell_type": "markdown",
   "id": "a8318afa-d9de-4236-bb0d-8854ac670234",
   "metadata": {},
   "source": [
    "## Test labels:"
   ]
  },
  {
   "cell_type": "code",
   "execution_count": 7,
   "id": "2f1b9054-d28e-4031-9124-1abc6dfd1980",
   "metadata": {},
   "outputs": [],
   "source": [
    "for filename in os.listdir(\"CamVid/test_labels\"):\n",
    "    if filename == \".ipynb_checkpoints\":\n",
    "        continue\n",
    "\n",
    "    # Name of processed label image\n",
    "    processed_file_name = filename[:-4] + \"P\" + filename[-4:]\n",
    "    img = np.array(Image.open(\"CamVid/test_labels/\" + filename))\n",
    "    img_shape = img.shape\n",
    "    processed_image = np.zeros((img_shape[0], img_shape[1]))\n",
    "\n",
    "    # Setting class label value in processed image\n",
    "    keys = list(color_dict.keys())\n",
    "    for i in range(img_shape[0]):\n",
    "        for j in range(img_shape[1]):\n",
    "            processed_image[i][j] = color_dict[tuple(img[i][j])] if tuple(img[i][j]) in keys else 8\n",
    "    \n",
    "    processed_image = processed_image.astype(np.uint8)\n",
    "    save_image = Image.fromarray(processed_image, mode = 'L') # Saving as grayscale image \n",
    "    save_image.save(\"CamVid/test_labels_processed/\" + processed_file_name)"
   ]
  },
  {
   "cell_type": "code",
   "execution_count": 8,
   "id": "f45cd7e0-0dec-48d9-953b-1329442be323",
   "metadata": {},
   "outputs": [
    {
     "name": "stdout",
     "output_type": "stream",
     "text": [
      "233\n",
      "233\n"
     ]
    }
   ],
   "source": [
    "print(len(os.listdir(\"CamVid/test_labels\")))\n",
    "print(len(os.listdir(\"CamVid/test_labels_processed\")))"
   ]
  },
  {
   "cell_type": "code",
   "execution_count": 9,
   "id": "7f7d0eaf-c41a-41c0-8ee1-2aef492f2efd",
   "metadata": {
    "scrolled": true
   },
   "outputs": [
    {
     "name": "stdout",
     "output_type": "stream",
     "text": [
      "(720, 960)\n"
     ]
    },
    {
     "data": {
      "image/png": "[encoded data removed]",
      "text/plain": [
       "<Figure size 640x480 with 2 Axes>"
      ]
     },
     "metadata": {},
     "output_type": "display_data"
    }
   ],
   "source": [
    "for filename in os.listdir(\"CamVid/test_labels\"):\n",
    "    if filename == \".ipynb_checkpoints\":\n",
    "        continue\n",
    "    processed_file_name = filename[:-4] + \"P\" + filename[-4:]\n",
    "    ori_image = np.array(Image.open(\"CamVid/test_labels/\" + filename).convert('L'))\n",
    "    processed_image = np.array(Image.open(\"CamVid/test_labels_processed/\" + processed_file_name).convert('L'))\n",
    "    print(processed_image.shape)\n",
    "    fig, (ax1, ax2) = plt.subplots(1,2)\n",
    "    ax1.imshow(ori_image)\n",
    "    # ax1.title(\"original image\")\n",
    "    ax2.imshow(processed_image)\n",
    "    # ax2.title(\"processed image\")\n",
    "    break"
   ]
  },
  {
   "cell_type": "markdown",
   "id": "25ea1501-c679-4e76-ab3f-055ccb9c274d",
   "metadata": {},
   "source": [
    "## Validation labels:"
   ]
  },
  {
   "cell_type": "code",
   "execution_count": 10,
   "id": "b99f5346-f92b-40e0-997a-aca363515a07",
   "metadata": {},
   "outputs": [],
   "source": [
    "for filename in os.listdir(\"CamVid/val_labels\"):\n",
    "    if filename == \".ipynb_checkpoints\":\n",
    "        continue\n",
    "\n",
    "    # Name of processed label image\n",
    "    processed_file_name = filename[:-4] + \"P\" + filename[-4:]\n",
    "    img = np.array(Image.open(\"CamVid/val_labels/\" + filename))\n",
    "    img_shape = img.shape\n",
    "    processed_image = np.zeros((img_shape[0], img_shape[1]))\n",
    "\n",
    "    # Setting class label value in processed image\n",
    "    keys = list(color_dict.keys())\n",
    "    for i in range(img_shape[0]):\n",
    "        for j in range(img_shape[1]):\n",
    "            processed_image[i][j] = color_dict[tuple(img[i][j])] if tuple(img[i][j]) in keys else 8\n",
    "    \n",
    "    processed_image = processed_image.astype(np.uint8)\n",
    "    save_image = Image.fromarray(processed_image, mode = 'L') # Saving as grayscale image \n",
    "    save_image.save(\"CamVid/val_labels_processed/\" + processed_file_name)"
   ]
  },
  {
   "cell_type": "code",
   "execution_count": 11,
   "id": "df96b305-2592-4609-8ebb-7f988de464f0",
   "metadata": {},
   "outputs": [
    {
     "name": "stdout",
     "output_type": "stream",
     "text": [
      "100\n",
      "101\n"
     ]
    }
   ],
   "source": [
    "print(len(os.listdir(\"CamVid/val_labels\")))\n",
    "print(len(os.listdir(\"CamVid/val_labels_processed\")))"
   ]
  },
  {
   "cell_type": "code",
   "execution_count": 12,
   "id": "c2d04859-4272-4aab-b7d1-144960230b04",
   "metadata": {
    "scrolled": true
   },
   "outputs": [
    {
     "name": "stdout",
     "output_type": "stream",
     "text": [
      "(720, 960)\n"
     ]
    },
    {
     "data": {
      "image/png": "[encoded data removed]",
      "text/plain": [
       "<Figure size 640x480 with 2 Axes>"
      ]
     },
     "metadata": {},
     "output_type": "display_data"
    }
   ],
   "source": [
    "for filename in os.listdir(\"CamVid/val_labels\"):\n",
    "    if filename == \".ipynb_checkpoints\":\n",
    "        continue\n",
    "    processed_file_name = filename[:-4] + \"P\" + filename[-4:]\n",
    "    ori_image = np.array(Image.open(\"CamVid/val_labels/\" + filename).convert('L'))\n",
    "    processed_image = np.array(Image.open(\"CamVid/val_labels_processed/\" + processed_file_name).convert('L'))\n",
    "    print(processed_image.shape)\n",
    "    fig, (ax1, ax2) = plt.subplots(1,2)\n",
    "    ax1.imshow(ori_image)\n",
    "    # ax1.title(\"original image\")\n",
    "    ax2.imshow(processed_image)\n",
    "    # ax2.title(\"processed image\")\n",
    "    break"
   ]
  },
  {
   "cell_type": "code",
   "execution_count": null,
   "id": "bd8ad9a2-7cf1-4990-b96e-361158bfada7",
   "metadata": {},
   "outputs": [],
   "source": []
  }
 ],
 "metadata": {
  "kernelspec": {
   "display_name": "Torch Kernel(GPU Available)",
   "language": "python",
   "name": "torch_env"
  },
  "language_info": {
   "codemirror_mode": {
    "name": "ipython",
    "version": 3
   },
   "file_extension": ".py",
   "mimetype": "text/x-python",
   "name": "python",
   "nbconvert_exporter": "python",
   "pygments_lexer": "ipython3",
   "version": "3.10.14"
  }
 },
 "nbformat": 4,
 "nbformat_minor": 5
}
